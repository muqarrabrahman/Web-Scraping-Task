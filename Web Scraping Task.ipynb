{
 "cells": [
  {
   "cell_type": "markdown",
   "id": "19eeb3bc",
   "metadata": {},
   "source": [
    "# Install Required Libraries"
   ]
  },
  {
   "cell_type": "code",
   "execution_count": 1,
   "id": "ffedcb6f",
   "metadata": {},
   "outputs": [
    {
     "name": "stdout",
     "output_type": "stream",
     "text": [
      "Requirement already satisfied: requests in c:\\users\\muqarrab rahman\\anaconda3\\lib\\site-packages (2.28.1)\n",
      "Requirement already satisfied: idna<4,>=2.5 in c:\\users\\muqarrab rahman\\anaconda3\\lib\\site-packages (from requests) (3.4)\n",
      "Requirement already satisfied: urllib3<1.27,>=1.21.1 in c:\\users\\muqarrab rahman\\anaconda3\\lib\\site-packages (from requests) (1.26.14)\n",
      "Requirement already satisfied: certifi>=2017.4.17 in c:\\users\\muqarrab rahman\\anaconda3\\lib\\site-packages (from requests) (2022.12.7)\n",
      "Requirement already satisfied: charset-normalizer<3,>=2 in c:\\users\\muqarrab rahman\\anaconda3\\lib\\site-packages (from requests) (2.0.4)\n",
      "Requirement already satisfied: beautifulsoup4 in c:\\users\\muqarrab rahman\\anaconda3\\lib\\site-packages (4.11.1)\n",
      "Requirement already satisfied: soupsieve>1.2 in c:\\users\\muqarrab rahman\\anaconda3\\lib\\site-packages (from beautifulsoup4) (2.3.2.post1)\n"
     ]
    }
   ],
   "source": [
    "!pip install requests\n",
    "!pip install beautifulsoup4"
   ]
  },
  {
   "cell_type": "markdown",
   "id": "384a0ac1",
   "metadata": {},
   "source": [
    "# Import Required Libraries"
   ]
  },
  {
   "cell_type": "code",
   "execution_count": 1,
   "id": "b40646c1",
   "metadata": {},
   "outputs": [],
   "source": [
    "import requests\n",
    "from bs4 import BeautifulSoup\n",
    "import csv\n",
    "import random\n",
    "import pandas as pd"
   ]
  },
  {
   "cell_type": "code",
   "execution_count": 2,
   "id": "696bebc2",
   "metadata": {},
   "outputs": [],
   "source": [
    "# URL of the real estate listings website\n",
    "base_url = \"https://www.zillow.com/\""
   ]
  },
  {
   "cell_type": "markdown",
   "id": "7d835019",
   "metadata": {},
   "source": [
    "## Scrapping Function\n",
    " - Take City name as INPUT"
   ]
  },
  {
   "cell_type": "code",
   "execution_count": 3,
   "id": "cb0a4e55",
   "metadata": {},
   "outputs": [],
   "source": [
    "def scrape_real_estate_listings(location):\n",
    "        # URL of the real estate listings website\n",
    "        url = f\"{base_url}{location}\"\n",
    "        \n",
    "        # Set a user-agent header to simulate a request from a web browser\n",
    "        user_agents = [\n",
    "            'Mozilla/5.0 (Windows NT 10.0; Win64; x64) AppleWebKit/537.36 (KHTML, like Gecko) Chrome/58.0.3029.110 Safari/537.3',\n",
    "            'Mozilla/5.0 (Windows NT 10.0; Win64; x64) AppleWebKit/537.36 (KHTML, like Gecko) Firefox/58.0.1',\n",
    "            # Add more user agents as needed\n",
    "        ]\n",
    "        headers = {\n",
    "            'User-Agent': random.choice(user_agents)\n",
    "        }\n",
    "\n",
    "        # Use a session to persist cookies between requests\n",
    "        session = requests.Session()\n",
    "\n",
    "        # Make the request with headers and cookies\n",
    "        response = session.get(url, headers=headers)\n",
    "\n",
    "        # Check if the request was successful (status code 200)\n",
    "        if response.status_code == 200:\n",
    "            # Parse the HTML content of the page\n",
    "            soup = BeautifulSoup(response.content, 'html.parser')\n",
    "        \n",
    "                \n",
    "            # Extract property information\n",
    "            property_listings = []   \n",
    "            \n",
    "            for listing in soup.find_all('div', class_='StyledCard-c11n-8-84-3__sc-rmiu6p-0 jZuLiI StyledPropertyCardBody-c11n-8-84-3__sc-1p5uux3-0 gHYrNO'):\n",
    "\n",
    "                title = listing.find('div', class_='StyledPropertyCardDataArea-c11n-8-84-3__sc-yipmu-0 dbDWjx').text.strip()\n",
    "                price = listing.find('span', class_='PropertyCardWrapper__StyledPriceLine-srp__sc-16e8gqd-1 iMKTKr').text.strip()\n",
    "                property_url_element = listing.find('a', class_='StyledPropertyCardDataArea-c11n-8-84-3__sc-yipmu-0 jnnxAW property-card-link')\n",
    "                property_url = \"https://www.zillow.com\" + property_url_element['href'] if property_url_element else 'N/A'\n",
    "\n",
    "                property_listings.append({\n",
    "                    'Title': title,\n",
    "                    'Price': price,\n",
    "                    'URL': property_url\n",
    "                })\n",
    "            df = pd.DataFrame(property_listings)\n",
    "            print(df)\n",
    "            # Save the data to a CSV file\n",
    "            #print(property_listings)\n",
    "            save_to_csv(property_listings, location)\n",
    "\n",
    "        else:\n",
    "            print(f\"Failed to retrieve data. Status code: {response.status_code}\")"
   ]
  },
  {
   "cell_type": "markdown",
   "id": "d88de7d9",
   "metadata": {},
   "source": [
    "## Loading Function\n",
    "\n",
    " - Take data as INPUT\n",
    " - Take path as INPUT\n",
    "\n",
    "Save the data in csv file"
   ]
  },
  {
   "cell_type": "code",
   "execution_count": 4,
   "id": "add96265",
   "metadata": {},
   "outputs": [],
   "source": [
    "def save_to_csv(data, location):\n",
    "    # Define the CSV filename\n",
    "    filename = f\"real_estate_listings_{location}.csv\"\n",
    "\n",
    "    # Write data to CSV file\n",
    "    with open(filename, 'w', newline='', encoding='utf-8') as csvfile:\n",
    "        fieldnames = ['Title', 'Price', 'URL']\n",
    "        writer = csv.DictWriter(csvfile, fieldnames=fieldnames)\n",
    "\n",
    "        # Write header\n",
    "        writer.writeheader()\n",
    "\n",
    "        # Write data rows\n",
    "        for row in data:\n",
    "            writer.writerow(row)\n",
    "\n",
    "    print(f\"Data has been successfully scraped and saved to {filename}.\")"
   ]
  },
  {
   "cell_type": "markdown",
   "id": "a05aa4cd",
   "metadata": {},
   "source": [
    "### Scrap NEW YORK city data in csv"
   ]
  },
  {
   "cell_type": "code",
   "execution_count": 5,
   "id": "8b6e4c73",
   "metadata": {},
   "outputs": [
    {
     "name": "stdout",
     "output_type": "stream",
     "text": [
      "                                              Title     Price  \\\n",
      "0              3 bds2 ba1,244 sqft - House for sale  $174,900   \n",
      "1                    1 bd1 ba600 sqft - Coming soon  $245,000   \n",
      "2                      3 bds1 ba1,232 sqft - Active  $169,900   \n",
      "3              3 bds1 ba1,068 sqft - House for sale  $174,900   \n",
      "4              3 bds2 ba2,186 sqft - House for sale  $249,000   \n",
      "5  6 bds2 ba2,200 sqft - Multi-family home for sale  $260,000   \n",
      "6              4 bds4 ba3,354 sqft - House for sale  $220,000   \n",
      "7              4 bds2 ba1,552 sqft - House for sale  $199,900   \n",
      "8                    1 bd1 ba750 sqft - Coming soon  $135,000   \n",
      "\n",
      "                                                 URL  \n",
      "0  https://www.zillow.comhttps://www.zillow.com/h...  \n",
      "1  https://www.zillow.comhttps://www.zillow.com/h...  \n",
      "2  https://www.zillow.comhttps://www.zillow.com/h...  \n",
      "3  https://www.zillow.comhttps://www.zillow.com/h...  \n",
      "4  https://www.zillow.comhttps://www.zillow.com/h...  \n",
      "5  https://www.zillow.comhttps://www.zillow.com/h...  \n",
      "6  https://www.zillow.comhttps://www.zillow.com/h...  \n",
      "7  https://www.zillow.comhttps://www.zillow.com/h...  \n",
      "8  https://www.zillow.comhttps://www.zillow.com/h...  \n",
      "Data has been successfully scraped and saved to real_estate_listings_ny.csv.\n"
     ]
    }
   ],
   "source": [
    "# Example usage\n",
    "scrape_real_estate_listings(\"ny\")"
   ]
  },
  {
   "cell_type": "markdown",
   "id": "7c8b688b",
   "metadata": {},
   "source": [
    "### Scrap Chicago city data in csv"
   ]
  },
  {
   "cell_type": "code",
   "execution_count": 5,
   "id": "81e140fd",
   "metadata": {},
   "outputs": [
    {
     "name": "stdout",
     "output_type": "stream",
     "text": [
      "                                Title     Price  \\\n",
      "0              4 bds2 ba-- sqft - New   $29,500   \n",
      "1          6 bds2 ba-- sqft - Auction       $--   \n",
      "2               3,750 sqft lot  - New   $39,900   \n",
      "3               3,049 sqft lot  - New   $79,900   \n",
      "4               4,375 sqft lot  - New    $9,900   \n",
      "5  5 bds3 ba2,200 sqft - Re-activated  $238,000   \n",
      "6              2 bds2 ba-- sqft - New  $329,900   \n",
      "7               1 bd1 ba-- sqft - New  $138,900   \n",
      "8           Studio 1 ba569 sqft - New  $149,000   \n",
      "\n",
      "                                                 URL  \n",
      "0  https://www.zillow.comhttps://www.zillow.com/h...  \n",
      "1  https://www.zillow.comhttps://www.zillow.com/h...  \n",
      "2  https://www.zillow.comhttps://www.zillow.com/h...  \n",
      "3  https://www.zillow.comhttps://www.zillow.com/h...  \n",
      "4  https://www.zillow.comhttps://www.zillow.com/h...  \n",
      "5  https://www.zillow.comhttps://www.zillow.com/h...  \n",
      "6  https://www.zillow.comhttps://www.zillow.com/h...  \n",
      "7  https://www.zillow.comhttps://www.zillow.com/h...  \n",
      "8  https://www.zillow.comhttps://www.zillow.com/h...  \n",
      "Data has been successfully scraped and saved to real_estate_listings_chicago-il.csv.\n"
     ]
    }
   ],
   "source": [
    "# Example usage\n",
    "scrape_real_estate_listings(\"chicago-il\")"
   ]
  }
 ],
 "metadata": {
  "kernelspec": {
   "display_name": "Python 3 (ipykernel)",
   "language": "python",
   "name": "python3"
  },
  "language_info": {
   "codemirror_mode": {
    "name": "ipython",
    "version": 3
   },
   "file_extension": ".py",
   "mimetype": "text/x-python",
   "name": "python",
   "nbconvert_exporter": "python",
   "pygments_lexer": "ipython3",
   "version": "3.10.9"
  }
 },
 "nbformat": 4,
 "nbformat_minor": 5
}
